{
  "nbformat": 4,
  "nbformat_minor": 0,
  "metadata": {
    "colab": {
      "provenance": []
    },
    "kernelspec": {
      "name": "python3",
      "display_name": "Python 3"
    },
    "language_info": {
      "name": "python"
    }
  },
  "cells": [
    {
      "cell_type": "code",
      "execution_count": null,
      "metadata": {
        "colab": {
          "base_uri": "https://localhost:8080/"
        },
        "id": "VJav4O3UpMqP",
        "outputId": "442fa570-c404-4a57-aa07-c0b6cff6e0df"
      },
      "outputs": [
        {
          "output_type": "stream",
          "name": "stdout",
          "text": [
            "Collecting pymysql\n",
            "  Downloading PyMySQL-1.1.0-py3-none-any.whl (44 kB)\n",
            "\u001b[?25l     \u001b[90m━━━━━━━━━━━━━━━━━━━━━━━━━━━━━━━━━━━━━━━━\u001b[0m \u001b[32m0.0/44.8 kB\u001b[0m \u001b[31m?\u001b[0m eta \u001b[36m-:--:--\u001b[0m\r\u001b[2K     \u001b[90m━━━━━━━━━━━━━━━━━━━━━━━━━━━━━━━━━━━━━━━━\u001b[0m \u001b[32m44.8/44.8 kB\u001b[0m \u001b[31m1.4 MB/s\u001b[0m eta \u001b[36m0:00:00\u001b[0m\n",
            "\u001b[?25hInstalling collected packages: pymysql\n",
            "Successfully installed pymysql-1.1.0\n"
          ]
        }
      ],
      "source": [
        "!pip install pymysql"
      ]
    },
    {
      "cell_type": "code",
      "source": [
        "%load_ext sql"
      ],
      "metadata": {
        "id": "8dalix1zxt7F"
      },
      "execution_count": null,
      "outputs": []
    },
    {
      "cell_type": "markdown",
      "source": [
        "ERD diagram for BIS statistics table"
      ],
      "metadata": {
        "id": "1wO_35j3vG6A"
      }
    },
    {
      "cell_type": "markdown",
      "source": [
        "![erd_bis.png](data:image/png;base64,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)"
      ],
      "metadata": {
        "id": "f1NYhd3cvAn4"
      }
    },
    {
      "cell_type": "code",
      "source": [
        "%sql sqlite:///BISCreditAnalysis.db"
      ],
      "metadata": {
        "id": "wesGAkBBxS1m"
      },
      "execution_count": null,
      "outputs": []
    },
    {
      "cell_type": "markdown",
      "source": [
        "We create a new database \"BISCreditAnalysis\" to store data related to credit analysis to help us analyse the credit to non financial sector for the major economies GERMANY, JAPAN, USA."
      ],
      "metadata": {
        "id": "bnzW6mAkzHQF"
      }
    },
    {
      "cell_type": "code",
      "source": [
        "%%sql\n",
        "-- Create Countries table\n",
        "CREATE TABLE Countries (\n",
        "    CountryID INT PRIMARY KEY,\n",
        "    CountryName VARCHAR(255) NOT NULL\n",
        ");"
      ],
      "metadata": {
        "colab": {
          "base_uri": "https://localhost:8080/"
        },
        "id": "TtGnphwDyXId",
        "outputId": "239db29d-6fb9-421f-9fd2-d1a7c89de3fa"
      },
      "execution_count": null,
      "outputs": [
        {
          "output_type": "stream",
          "name": "stdout",
          "text": [
            " * sqlite:///BISCreditAnalysis.db\n",
            "   sqlite:///exchange_rates_db.db\n",
            "Done.\n"
          ]
        },
        {
          "output_type": "execute_result",
          "data": {
            "text/plain": [
              "[]"
            ]
          },
          "metadata": {},
          "execution_count": 8
        }
      ]
    },
    {
      "cell_type": "code",
      "source": [
        "%%sql\n",
        "-- Create CreditStatistics table\n",
        "CREATE TABLE CreditStatistics (\n",
        "    CountryID INT,\n",
        "    Year INT,\n",
        "    CreditAmount DECIMAL(18, 2),\n",
        "    PRIMARY KEY (CountryID, Year),\n",
        "    FOREIGN KEY (CountryID) REFERENCES Countries(CountryID)\n",
        ");\n"
      ],
      "metadata": {
        "colab": {
          "base_uri": "https://localhost:8080/"
        },
        "id": "x4CtpFHEyck9",
        "outputId": "3aac0680-4e4c-4aa7-8aa6-936f54206852"
      },
      "execution_count": null,
      "outputs": [
        {
          "output_type": "stream",
          "name": "stdout",
          "text": [
            " * sqlite:///BISCreditAnalysis.db\n",
            "   sqlite:///exchange_rates_db.db\n",
            "Done.\n"
          ]
        },
        {
          "output_type": "execute_result",
          "data": {
            "text/plain": [
              "[]"
            ]
          },
          "metadata": {},
          "execution_count": 10
        }
      ]
    },
    {
      "cell_type": "code",
      "source": [
        "%%sql\n",
        "-- Create EconomicIndicators table\n",
        "CREATE TABLE EconomicIndicators (\n",
        "    CountryID INT,\n",
        "    Year INT,\n",
        "    GDPGrowth DECIMAL(5, 2),\n",
        "    InflationRate DECIMAL(5, 2),\n",
        "    InterestRate DECIMAL(5, 2),\n",
        "    PRIMARY KEY (CountryID, Year),\n",
        "    FOREIGN KEY (CountryID) REFERENCES Countries(CountryID)\n",
        ");"
      ],
      "metadata": {
        "colab": {
          "base_uri": "https://localhost:8080/"
        },
        "id": "sfRXkT4Cyqht",
        "outputId": "9a7611a5-5da1-491e-9700-99ca0292ccb0"
      },
      "execution_count": null,
      "outputs": [
        {
          "output_type": "stream",
          "name": "stdout",
          "text": [
            " * sqlite:///BISCreditAnalysis.db\n",
            "   sqlite:///exchange_rates_db.db\n",
            "Done.\n"
          ]
        },
        {
          "output_type": "execute_result",
          "data": {
            "text/plain": [
              "[]"
            ]
          },
          "metadata": {},
          "execution_count": 11
        }
      ]
    },
    {
      "cell_type": "markdown",
      "source": [
        "We create tables to store information about countries, credit statistics, economic indicators, credit volatility, and interest rate trends"
      ],
      "metadata": {
        "id": "HibIMkZ_zSuO"
      }
    },
    {
      "cell_type": "code",
      "source": [
        "%%sql\n",
        "INSERT INTO Countries (CountryID, CountryName) VALUES\n",
        "    (1, 'USA'),\n",
        "    (2, 'Germany'),\n",
        "    (3, 'Japan');"
      ],
      "metadata": {
        "colab": {
          "base_uri": "https://localhost:8080/"
        },
        "id": "C9ipWoZQzVgG",
        "outputId": "de68f6c3-9a86-4088-9de3-b618b98435a8"
      },
      "execution_count": null,
      "outputs": [
        {
          "output_type": "stream",
          "name": "stdout",
          "text": [
            " * sqlite:///BISCreditAnalysis.db\n",
            "   sqlite:///exchange_rates_db.db\n",
            "3 rows affected.\n"
          ]
        },
        {
          "output_type": "execute_result",
          "data": {
            "text/plain": [
              "[]"
            ]
          },
          "metadata": {},
          "execution_count": 13
        }
      ]
    },
    {
      "cell_type": "code",
      "source": [
        "%%sql\n",
        "-- Insert data into CreditStatistics table\n",
        "INSERT INTO CreditStatistics (CountryID, Year, CreditAmount) VALUES\n",
        "    (1, 2017, 500000),\n",
        "    (1, 2018, 550000),\n",
        "    (1, 2019, 600000),\n",
        "    (1, 2020, 520000),\n",
        "    (1, 2021, 580000),\n",
        "\n",
        "    (2, 2017, 300000),\n",
        "    (2, 2018, 320000),\n",
        "    (2, 2019, 340000),\n",
        "    (2, 2020, 310000),\n",
        "    (2, 2021, 330000),\n",
        "\n",
        "    (3, 2017, 200000),\n",
        "    (3, 2018, 210000),\n",
        "    (3, 2019, 220000),\n",
        "    (3, 2020, 230000),\n",
        "    (3, 2021, 240000);"
      ],
      "metadata": {
        "colab": {
          "base_uri": "https://localhost:8080/"
        },
        "id": "CqpjrnqMzkLt",
        "outputId": "48b2cd25-018d-4ce5-d047-209b06d1304e"
      },
      "execution_count": null,
      "outputs": [
        {
          "output_type": "stream",
          "name": "stdout",
          "text": [
            " * sqlite:///BISCreditAnalysis.db\n",
            "   sqlite:///exchange_rates_db.db\n",
            "15 rows affected.\n"
          ]
        },
        {
          "output_type": "execute_result",
          "data": {
            "text/plain": [
              "[]"
            ]
          },
          "metadata": {},
          "execution_count": 14
        }
      ]
    },
    {
      "cell_type": "code",
      "source": [
        "%%sql\n",
        "-- Insert data into EconomicIndicators table\n",
        "INSERT INTO EconomicIndicators (CountryID, Year, GDPGrowth, InflationRate, InterestRate) VALUES\n",
        "    (1, 2017, 2.5, 1.8, 2.0),\n",
        "    (1, 2018, 2.3, 1.5, 1.8),\n",
        "    (1, 2019, 2.0, 1.2, 1.5),\n",
        "    (1, 2020, 1.8, 1.0, 1.3),\n",
        "    (1, 2021, 2.0, 2.2, 2.5),\n",
        "\n",
        "    (2, 2017, 2.0, 1.2, 1.5),\n",
        "    (2, 2018, 1.8, 1.0, 1.3),\n",
        "    (2, 2019, 1.5, 0.8, 1.2),\n",
        "    (2, 2020, 1.2, 0.5, 1.0),\n",
        "    (2, 2021, 1.5, 1.2, 1.4),\n",
        "\n",
        "    (3, 2017, 1.0, 0.8, 0.5),\n",
        "    (3, 2018, 0.8, 0.5, 0.3),\n",
        "    (3, 2019, 0.5, 0.3, 0.2),\n",
        "    (3, 2020, 0.2, 0.1, 0.1),\n",
        "    (3, 2021, 0.5, 0.7, 0.8);"
      ],
      "metadata": {
        "colab": {
          "base_uri": "https://localhost:8080/"
        },
        "id": "XIZsZVU60JYk",
        "outputId": "725f9d23-129f-4fdb-b823-21ff7b800dae"
      },
      "execution_count": null,
      "outputs": [
        {
          "output_type": "stream",
          "name": "stdout",
          "text": [
            " * sqlite:///BISCreditAnalysis.db\n",
            "   sqlite:///exchange_rates_db.db\n",
            "15 rows affected.\n"
          ]
        },
        {
          "output_type": "execute_result",
          "data": {
            "text/plain": [
              "[]"
            ]
          },
          "metadata": {},
          "execution_count": 15
        }
      ]
    },
    {
      "cell_type": "markdown",
      "source": [
        "Entering data into the tables"
      ],
      "metadata": {
        "id": "JJmPQXBd3CC9"
      }
    },
    {
      "cell_type": "markdown",
      "source": [],
      "metadata": {
        "id": "bKmokW5R0xk2"
      }
    },
    {
      "cell_type": "code",
      "source": [
        "%%sql\n",
        "-- Average credit amount and inflation rate for each country\n",
        "SELECT c.CountryName, AVG(cs.CreditAmount) AS AvgCreditAmount, AVG(ei.InflationRate) AS AvgInflationRate\n",
        "FROM CreditStatistics cs\n",
        "JOIN EconomicIndicators ei ON cs.CountryID = ei.CountryID AND cs.Year = ei.Year\n",
        "JOIN Countries c ON cs.CountryID = c.CountryID\n",
        "GROUP BY c.CountryName;"
      ],
      "metadata": {
        "colab": {
          "base_uri": "https://localhost:8080/",
          "height": 157
        },
        "id": "Do9-ssWs08wN",
        "outputId": "1c0e64c0-ae76-4795-84c1-9dd93fdd992e"
      },
      "execution_count": null,
      "outputs": [
        {
          "output_type": "stream",
          "name": "stdout",
          "text": [
            " * sqlite:///BISCreditAnalysis.db\n",
            "   sqlite:///exchange_rates_db.db\n",
            "Done.\n"
          ]
        },
        {
          "output_type": "execute_result",
          "data": {
            "text/plain": [
              "[('Germany', 320000.0, 0.9400000000000001),\n",
              " ('Japan', 220000.0, 0.4800000000000001),\n",
              " ('USA', 550000.0, 1.54)]"
            ],
            "text/html": [
              "<table>\n",
              "    <thead>\n",
              "        <tr>\n",
              "            <th>CountryName</th>\n",
              "            <th>AvgCreditAmount</th>\n",
              "            <th>AvgInflationRate</th>\n",
              "        </tr>\n",
              "    </thead>\n",
              "    <tbody>\n",
              "        <tr>\n",
              "            <td>Germany</td>\n",
              "            <td>320000.0</td>\n",
              "            <td>0.9400000000000001</td>\n",
              "        </tr>\n",
              "        <tr>\n",
              "            <td>Japan</td>\n",
              "            <td>220000.0</td>\n",
              "            <td>0.4800000000000001</td>\n",
              "        </tr>\n",
              "        <tr>\n",
              "            <td>USA</td>\n",
              "            <td>550000.0</td>\n",
              "            <td>1.54</td>\n",
              "        </tr>\n",
              "    </tbody>\n",
              "</table>"
            ]
          },
          "metadata": {},
          "execution_count": 18
        }
      ]
    },
    {
      "cell_type": "markdown",
      "source": [
        " This query determines the country with the highest average credit and inflation amount which is USAa."
      ],
      "metadata": {
        "id": "LgdUlF5M2MuE"
      }
    },
    {
      "cell_type": "code",
      "source": [
        "%%sql\n",
        "-- Highest credit amount across countries for each year\n",
        "SELECT Year, MAX(CreditAmount) AS HighestCreditAmount\n",
        "FROM CreditStatistics\n",
        "GROUP BY Year;"
      ],
      "metadata": {
        "colab": {
          "base_uri": "https://localhost:8080/",
          "height": 199
        },
        "id": "Hp_Bl52e1Epd",
        "outputId": "f0edb462-053f-455d-fada-496f8b5934b5"
      },
      "execution_count": null,
      "outputs": [
        {
          "output_type": "stream",
          "name": "stdout",
          "text": [
            " * sqlite:///BISCreditAnalysis.db\n",
            "   sqlite:///exchange_rates_db.db\n",
            "Done.\n"
          ]
        },
        {
          "output_type": "execute_result",
          "data": {
            "text/plain": [
              "[(2017, 500000),\n",
              " (2018, 550000),\n",
              " (2019, 600000),\n",
              " (2020, 520000),\n",
              " (2021, 580000)]"
            ],
            "text/html": [
              "<table>\n",
              "    <thead>\n",
              "        <tr>\n",
              "            <th>Year</th>\n",
              "            <th>HighestCreditAmount</th>\n",
              "        </tr>\n",
              "    </thead>\n",
              "    <tbody>\n",
              "        <tr>\n",
              "            <td>2017</td>\n",
              "            <td>500000</td>\n",
              "        </tr>\n",
              "        <tr>\n",
              "            <td>2018</td>\n",
              "            <td>550000</td>\n",
              "        </tr>\n",
              "        <tr>\n",
              "            <td>2019</td>\n",
              "            <td>600000</td>\n",
              "        </tr>\n",
              "        <tr>\n",
              "            <td>2020</td>\n",
              "            <td>520000</td>\n",
              "        </tr>\n",
              "        <tr>\n",
              "            <td>2021</td>\n",
              "            <td>580000</td>\n",
              "        </tr>\n",
              "    </tbody>\n",
              "</table>"
            ]
          },
          "metadata": {},
          "execution_count": 19
        }
      ]
    },
    {
      "cell_type": "markdown",
      "source": [
        "This query identifies the highest credit amount across countries for each year, helping to note the peak credit periods."
      ],
      "metadata": {
        "id": "R_NJhLhh1zze"
      }
    },
    {
      "cell_type": "code",
      "source": [
        "%%sql\n",
        "-- Countries with the highest average credit amount\n",
        "SELECT c.CountryName, AVG(cs.CreditAmount) AS AvgCreditAmount\n",
        "FROM CreditStatistics cs\n",
        "JOIN Countries c ON cs.CountryID = c.CountryID\n",
        "GROUP BY c.CountryName\n",
        "ORDER BY AvgCreditAmount DESC\n",
        "LIMIT 1;"
      ],
      "metadata": {
        "colab": {
          "base_uri": "https://localhost:8080/",
          "height": 114
        },
        "id": "xSRDeAwD145l",
        "outputId": "39de758c-bb9e-4adf-bfb1-00171c953eba"
      },
      "execution_count": null,
      "outputs": [
        {
          "output_type": "stream",
          "name": "stdout",
          "text": [
            " * sqlite:///BISCreditAnalysis.db\n",
            "   sqlite:///exchange_rates_db.db\n",
            "Done.\n"
          ]
        },
        {
          "output_type": "execute_result",
          "data": {
            "text/plain": [
              "[('USA', 550000.0)]"
            ],
            "text/html": [
              "<table>\n",
              "    <thead>\n",
              "        <tr>\n",
              "            <th>CountryName</th>\n",
              "            <th>AvgCreditAmount</th>\n",
              "        </tr>\n",
              "    </thead>\n",
              "    <tbody>\n",
              "        <tr>\n",
              "            <td>USA</td>\n",
              "            <td>550000.0</td>\n",
              "        </tr>\n",
              "    </tbody>\n",
              "</table>"
            ]
          },
          "metadata": {},
          "execution_count": 20
        }
      ]
    },
    {
      "cell_type": "markdown",
      "source": [
        "This query determines the country with the highest average credit amount, providing insights into the leading nation in terms of credit."
      ],
      "metadata": {
        "id": "333MRbIP2i0e"
      }
    },
    {
      "cell_type": "code",
      "source": [
        "%%sql\n",
        "-- Countries with consistent positive GDP growth\n",
        "SELECT c.CountryName\n",
        "FROM EconomicIndicators ei\n",
        "JOIN Countries c ON ei.CountryID = c.CountryID\n",
        "GROUP BY c.CountryName\n",
        "HAVING COUNT(CASE WHEN GDPGrowth > 0 THEN 1 ELSE NULL END) = COUNT(*);"
      ],
      "metadata": {
        "colab": {
          "base_uri": "https://localhost:8080/",
          "height": 157
        },
        "id": "TFp0h3mN2BVV",
        "outputId": "7443b16f-0717-4d07-cbdc-eb6f6d03a219"
      },
      "execution_count": null,
      "outputs": [
        {
          "output_type": "stream",
          "name": "stdout",
          "text": [
            " * sqlite:///BISCreditAnalysis.db\n",
            "   sqlite:///exchange_rates_db.db\n",
            "Done.\n"
          ]
        },
        {
          "output_type": "execute_result",
          "data": {
            "text/plain": [
              "[('Germany',), ('Japan',), ('USA',)]"
            ],
            "text/html": [
              "<table>\n",
              "    <thead>\n",
              "        <tr>\n",
              "            <th>CountryName</th>\n",
              "        </tr>\n",
              "    </thead>\n",
              "    <tbody>\n",
              "        <tr>\n",
              "            <td>Germany</td>\n",
              "        </tr>\n",
              "        <tr>\n",
              "            <td>Japan</td>\n",
              "        </tr>\n",
              "        <tr>\n",
              "            <td>USA</td>\n",
              "        </tr>\n",
              "    </tbody>\n",
              "</table>"
            ]
          },
          "metadata": {},
          "execution_count": 21
        }
      ]
    },
    {
      "cell_type": "markdown",
      "source": [
        "This query identifies countries with consistent positive GDP growth, indicating economic stability."
      ],
      "metadata": {
        "id": "qXaMYFEE2cUV"
      }
    },
    {
      "cell_type": "code",
      "source": [],
      "metadata": {
        "id": "3gMlEF0q6Ood"
      },
      "execution_count": null,
      "outputs": []
    }
  ]
}